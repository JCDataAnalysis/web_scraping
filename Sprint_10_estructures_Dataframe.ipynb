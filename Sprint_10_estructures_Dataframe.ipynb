{
 "cells": [
  {
   "attachments": {},
   "cell_type": "markdown",
   "metadata": {},
   "source": [
    "#### Tasca M10 T01"
   ]
  },
  {
   "attachments": {},
   "cell_type": "markdown",
   "metadata": {},
   "source": [
    "#### Exercici 1. Realitza web scraping de dues de les tres pàgines web proposades utilitzant BeautifulSoup primer i Selenium després. \n",
    "- http://quotes.toscrape.com\n",
    "- https://www.bolsamadrid.es\n",
    "- www.wikipedia.es (fes alguna cerca primer i escrapeja algun contingut)"
   ]
  },
  {
   "cell_type": "code",
   "execution_count": 100,
   "metadata": {},
   "outputs": [],
   "source": [
    "import pandas as pd\n",
    "\n",
    "import requests\n",
    "from bs4 import BeautifulSoup\n",
    "\n",
    "from selenium.webdriver import Chrome\n",
    "from selenium.webdriver.common.keys import Keys\n",
    "from selenium.webdriver.common.by import By\n",
    "from selenium.webdriver.chrome.options import Options"
   ]
  },
  {
   "attachments": {},
   "cell_type": "markdown",
   "metadata": {},
   "source": [
    "Començarem pel primer link, la web de cites, i primer realitzarem el web scraping amb la llibreria BeautifulSoup."
   ]
  },
  {
   "cell_type": "code",
   "execution_count": 5,
   "metadata": {},
   "outputs": [],
   "source": [
    "URL = \"http://quotes.toscrape.com\"\n",
    "page = requests.get(URL)"
   ]
  },
  {
   "cell_type": "code",
   "execution_count": 8,
   "metadata": {},
   "outputs": [],
   "source": [
    "soup = BeautifulSoup(page.content, \"html.parser\")"
   ]
  },
  {
   "attachments": {},
   "cell_type": "markdown",
   "metadata": {},
   "source": [
    "Quan inspeccionem le web veiem que les cites s'inclouen en els contenidors 'div' i en la class 'quote'."
   ]
  },
  {
   "cell_type": "code",
   "execution_count": 9,
   "metadata": {},
   "outputs": [],
   "source": [
    "cites = soup.find_all(\"div\", class_=\"quote\")"
   ]
  },
  {
   "cell_type": "code",
   "execution_count": 10,
   "metadata": {},
   "outputs": [
    {
     "name": "stdout",
     "output_type": "stream",
     "text": [
      "<div class=\"quote\" itemscope=\"\" itemtype=\"http://schema.org/CreativeWork\">\n",
      "<span class=\"text\" itemprop=\"text\">“The world as we have created it is a process of our thinking. It cannot be changed without changing our thinking.”</span>\n",
      "<span>by <small class=\"author\" itemprop=\"author\">Albert Einstein</small>\n",
      "<a href=\"/author/Albert-Einstein\">(about)</a>\n",
      "</span>\n",
      "<div class=\"tags\">\n",
      "            Tags:\n",
      "            <meta class=\"keywords\" content=\"change,deep-thoughts,thinking,world\" itemprop=\"keywords\"/>\n",
      "<a class=\"tag\" href=\"/tag/change/page/1/\">change</a>\n",
      "<a class=\"tag\" href=\"/tag/deep-thoughts/page/1/\">deep-thoughts</a>\n",
      "<a class=\"tag\" href=\"/tag/thinking/page/1/\">thinking</a>\n",
      "<a class=\"tag\" href=\"/tag/world/page/1/\">world</a>\n",
      "</div>\n",
      "</div>\n",
      "\n",
      "<div class=\"quote\" itemscope=\"\" itemtype=\"http://schema.org/CreativeWork\">\n",
      "<span class=\"text\" itemprop=\"text\">“It is our choices, Harry, that show what we truly are, far more than our abilities.”</span>\n",
      "<span>by <small class=\"author\" itemprop=\"author\">J.K. Rowling</small>\n",
      "<a href=\"/author/J-K-Rowling\">(about)</a>\n",
      "</span>\n",
      "<div class=\"tags\">\n",
      "            Tags:\n",
      "            <meta class=\"keywords\" content=\"abilities,choices\" itemprop=\"keywords\"/>\n",
      "<a class=\"tag\" href=\"/tag/abilities/page/1/\">abilities</a>\n",
      "<a class=\"tag\" href=\"/tag/choices/page/1/\">choices</a>\n",
      "</div>\n",
      "</div>\n",
      "\n",
      "<div class=\"quote\" itemscope=\"\" itemtype=\"http://schema.org/CreativeWork\">\n",
      "<span class=\"text\" itemprop=\"text\">“There are only two ways to live your life. One is as though nothing is a miracle. The other is as though everything is a miracle.”</span>\n",
      "<span>by <small class=\"author\" itemprop=\"author\">Albert Einstein</small>\n",
      "<a href=\"/author/Albert-Einstein\">(about)</a>\n",
      "</span>\n",
      "<div class=\"tags\">\n",
      "            Tags:\n",
      "            <meta class=\"keywords\" content=\"inspirational,life,live,miracle,miracles\" itemprop=\"keywords\"/>\n",
      "<a class=\"tag\" href=\"/tag/inspirational/page/1/\">inspirational</a>\n",
      "<a class=\"tag\" href=\"/tag/life/page/1/\">life</a>\n",
      "<a class=\"tag\" href=\"/tag/live/page/1/\">live</a>\n",
      "<a class=\"tag\" href=\"/tag/miracle/page/1/\">miracle</a>\n",
      "<a class=\"tag\" href=\"/tag/miracles/page/1/\">miracles</a>\n",
      "</div>\n",
      "</div>\n",
      "\n",
      "<div class=\"quote\" itemscope=\"\" itemtype=\"http://schema.org/CreativeWork\">\n",
      "<span class=\"text\" itemprop=\"text\">“The person, be it gentleman or lady, who has not pleasure in a good novel, must be intolerably stupid.”</span>\n",
      "<span>by <small class=\"author\" itemprop=\"author\">Jane Austen</small>\n",
      "<a href=\"/author/Jane-Austen\">(about)</a>\n",
      "</span>\n",
      "<div class=\"tags\">\n",
      "            Tags:\n",
      "            <meta class=\"keywords\" content=\"aliteracy,books,classic,humor\" itemprop=\"keywords\"/>\n",
      "<a class=\"tag\" href=\"/tag/aliteracy/page/1/\">aliteracy</a>\n",
      "<a class=\"tag\" href=\"/tag/books/page/1/\">books</a>\n",
      "<a class=\"tag\" href=\"/tag/classic/page/1/\">classic</a>\n",
      "<a class=\"tag\" href=\"/tag/humor/page/1/\">humor</a>\n",
      "</div>\n",
      "</div>\n",
      "\n",
      "<div class=\"quote\" itemscope=\"\" itemtype=\"http://schema.org/CreativeWork\">\n",
      "<span class=\"text\" itemprop=\"text\">“Imperfection is beauty, madness is genius and it's better to be absolutely ridiculous than absolutely boring.”</span>\n",
      "<span>by <small class=\"author\" itemprop=\"author\">Marilyn Monroe</small>\n",
      "<a href=\"/author/Marilyn-Monroe\">(about)</a>\n",
      "</span>\n",
      "<div class=\"tags\">\n",
      "            Tags:\n",
      "            <meta class=\"keywords\" content=\"be-yourself,inspirational\" itemprop=\"keywords\"/>\n",
      "<a class=\"tag\" href=\"/tag/be-yourself/page/1/\">be-yourself</a>\n",
      "<a class=\"tag\" href=\"/tag/inspirational/page/1/\">inspirational</a>\n",
      "</div>\n",
      "</div>\n",
      "\n",
      "<div class=\"quote\" itemscope=\"\" itemtype=\"http://schema.org/CreativeWork\">\n",
      "<span class=\"text\" itemprop=\"text\">“Try not to become a man of success. Rather become a man of value.”</span>\n",
      "<span>by <small class=\"author\" itemprop=\"author\">Albert Einstein</small>\n",
      "<a href=\"/author/Albert-Einstein\">(about)</a>\n",
      "</span>\n",
      "<div class=\"tags\">\n",
      "            Tags:\n",
      "            <meta class=\"keywords\" content=\"adulthood,success,value\" itemprop=\"keywords\"/>\n",
      "<a class=\"tag\" href=\"/tag/adulthood/page/1/\">adulthood</a>\n",
      "<a class=\"tag\" href=\"/tag/success/page/1/\">success</a>\n",
      "<a class=\"tag\" href=\"/tag/value/page/1/\">value</a>\n",
      "</div>\n",
      "</div>\n",
      "\n",
      "<div class=\"quote\" itemscope=\"\" itemtype=\"http://schema.org/CreativeWork\">\n",
      "<span class=\"text\" itemprop=\"text\">“It is better to be hated for what you are than to be loved for what you are not.”</span>\n",
      "<span>by <small class=\"author\" itemprop=\"author\">André Gide</small>\n",
      "<a href=\"/author/Andre-Gide\">(about)</a>\n",
      "</span>\n",
      "<div class=\"tags\">\n",
      "            Tags:\n",
      "            <meta class=\"keywords\" content=\"life,love\" itemprop=\"keywords\"/>\n",
      "<a class=\"tag\" href=\"/tag/life/page/1/\">life</a>\n",
      "<a class=\"tag\" href=\"/tag/love/page/1/\">love</a>\n",
      "</div>\n",
      "</div>\n",
      "\n",
      "<div class=\"quote\" itemscope=\"\" itemtype=\"http://schema.org/CreativeWork\">\n",
      "<span class=\"text\" itemprop=\"text\">“I have not failed. I've just found 10,000 ways that won't work.”</span>\n",
      "<span>by <small class=\"author\" itemprop=\"author\">Thomas A. Edison</small>\n",
      "<a href=\"/author/Thomas-A-Edison\">(about)</a>\n",
      "</span>\n",
      "<div class=\"tags\">\n",
      "            Tags:\n",
      "            <meta class=\"keywords\" content=\"edison,failure,inspirational,paraphrased\" itemprop=\"keywords\"/>\n",
      "<a class=\"tag\" href=\"/tag/edison/page/1/\">edison</a>\n",
      "<a class=\"tag\" href=\"/tag/failure/page/1/\">failure</a>\n",
      "<a class=\"tag\" href=\"/tag/inspirational/page/1/\">inspirational</a>\n",
      "<a class=\"tag\" href=\"/tag/paraphrased/page/1/\">paraphrased</a>\n",
      "</div>\n",
      "</div>\n",
      "\n",
      "<div class=\"quote\" itemscope=\"\" itemtype=\"http://schema.org/CreativeWork\">\n",
      "<span class=\"text\" itemprop=\"text\">“A woman is like a tea bag; you never know how strong it is until it's in hot water.”</span>\n",
      "<span>by <small class=\"author\" itemprop=\"author\">Eleanor Roosevelt</small>\n",
      "<a href=\"/author/Eleanor-Roosevelt\">(about)</a>\n",
      "</span>\n",
      "<div class=\"tags\">\n",
      "            Tags:\n",
      "            <meta class=\"keywords\" content=\"misattributed-eleanor-roosevelt\" itemprop=\"keywords\"/>\n",
      "<a class=\"tag\" href=\"/tag/misattributed-eleanor-roosevelt/page/1/\">misattributed-eleanor-roosevelt</a>\n",
      "</div>\n",
      "</div>\n",
      "\n",
      "<div class=\"quote\" itemscope=\"\" itemtype=\"http://schema.org/CreativeWork\">\n",
      "<span class=\"text\" itemprop=\"text\">“A day without sunshine is like, you know, night.”</span>\n",
      "<span>by <small class=\"author\" itemprop=\"author\">Steve Martin</small>\n",
      "<a href=\"/author/Steve-Martin\">(about)</a>\n",
      "</span>\n",
      "<div class=\"tags\">\n",
      "            Tags:\n",
      "            <meta class=\"keywords\" content=\"humor,obvious,simile\" itemprop=\"keywords\"/>\n",
      "<a class=\"tag\" href=\"/tag/humor/page/1/\">humor</a>\n",
      "<a class=\"tag\" href=\"/tag/obvious/page/1/\">obvious</a>\n",
      "<a class=\"tag\" href=\"/tag/simile/page/1/\">simile</a>\n",
      "</div>\n",
      "</div>\n",
      "\n"
     ]
    }
   ],
   "source": [
    "for cita in cites:\n",
    "    print(cita, end=\"\\n\"*2)"
   ]
  },
  {
   "attachments": {},
   "cell_type": "markdown",
   "metadata": {},
   "source": [
    "Ara extraiem la informació que ens interessa: la cita, el nom de l'autor i les etiquetes (tags)."
   ]
  },
  {
   "cell_type": "code",
   "execution_count": 11,
   "metadata": {},
   "outputs": [
    {
     "name": "stdout",
     "output_type": "stream",
     "text": [
      "“The world as we have created it is a process of our thinking. It cannot be changed without changing our thinking.” Albert Einstein ['change', 'deep-thoughts', 'thinking', 'world']\n",
      "“It is our choices, Harry, that show what we truly are, far more than our abilities.” J.K. Rowling ['abilities', 'choices']\n",
      "“There are only two ways to live your life. One is as though nothing is a miracle. The other is as though everything is a miracle.” Albert Einstein ['inspirational', 'life', 'live', 'miracle', 'miracles']\n",
      "“The person, be it gentleman or lady, who has not pleasure in a good novel, must be intolerably stupid.” Jane Austen ['aliteracy', 'books', 'classic', 'humor']\n",
      "“Imperfection is beauty, madness is genius and it's better to be absolutely ridiculous than absolutely boring.” Marilyn Monroe ['be-yourself', 'inspirational']\n",
      "“Try not to become a man of success. Rather become a man of value.” Albert Einstein ['adulthood', 'success', 'value']\n",
      "“It is better to be hated for what you are than to be loved for what you are not.” André Gide ['life', 'love']\n",
      "“I have not failed. I've just found 10,000 ways that won't work.” Thomas A. Edison ['edison', 'failure', 'inspirational', 'paraphrased']\n",
      "“A woman is like a tea bag; you never know how strong it is until it's in hot water.” Eleanor Roosevelt ['misattributed-eleanor-roosevelt']\n",
      "“A day without sunshine is like, you know, night.” Steve Martin ['humor', 'obvious', 'simile']\n"
     ]
    }
   ],
   "source": [
    "for cita in cites:\n",
    "    text = cita.find(\"span\", class_=\"text\").text\n",
    "    author = cita.find(\"small\", class_=\"author\").text\n",
    "    tag_html = cita.find_all(\"a\", class_=\"tag\")\n",
    "    tag_list=[]\n",
    "    for tag in tag_html:\n",
    "        tag_list.append(tag.text)\n",
    "    print(text, author, tag_list)"
   ]
  },
  {
   "attachments": {},
   "cell_type": "markdown",
   "metadata": {},
   "source": [
    "Un cop hem extret les dades, creem un df i incluim la informació:"
   ]
  },
  {
   "cell_type": "code",
   "execution_count": 14,
   "metadata": {},
   "outputs": [],
   "source": [
    "df_cites = pd.DataFrame(columns=['text', 'author', 'tags'])"
   ]
  },
  {
   "cell_type": "code",
   "execution_count": 15,
   "metadata": {},
   "outputs": [],
   "source": [
    "for cita in cites:\n",
    "    text=cita.find(\"span\", class_=\"text\").text\n",
    "    author=cita.find(\"small\", class_=\"author\").text\n",
    "    tag_html=cita.find_all(\"a\", class_=\"tag\")\n",
    "    tag_list=[]\n",
    "    for tag in tag_html:\n",
    "        tag_list.append(tag.text)\n",
    "    df_cites = pd.concat([df_cites, pd.DataFrame([{'text': text, 'author':author, 'tags': tag_list}])], ignore_index=True)"
   ]
  },
  {
   "cell_type": "code",
   "execution_count": 16,
   "metadata": {},
   "outputs": [
    {
     "data": {
      "text/html": [
       "<div>\n",
       "<style scoped>\n",
       "    .dataframe tbody tr th:only-of-type {\n",
       "        vertical-align: middle;\n",
       "    }\n",
       "\n",
       "    .dataframe tbody tr th {\n",
       "        vertical-align: top;\n",
       "    }\n",
       "\n",
       "    .dataframe thead th {\n",
       "        text-align: right;\n",
       "    }\n",
       "</style>\n",
       "<table border=\"1\" class=\"dataframe\">\n",
       "  <thead>\n",
       "    <tr style=\"text-align: right;\">\n",
       "      <th></th>\n",
       "      <th>text</th>\n",
       "      <th>author</th>\n",
       "      <th>tags</th>\n",
       "    </tr>\n",
       "  </thead>\n",
       "  <tbody>\n",
       "    <tr>\n",
       "      <th>0</th>\n",
       "      <td>“The world as we have created it is a process ...</td>\n",
       "      <td>Albert Einstein</td>\n",
       "      <td>[change, deep-thoughts, thinking, world]</td>\n",
       "    </tr>\n",
       "    <tr>\n",
       "      <th>1</th>\n",
       "      <td>“It is our choices, Harry, that show what we t...</td>\n",
       "      <td>J.K. Rowling</td>\n",
       "      <td>[abilities, choices]</td>\n",
       "    </tr>\n",
       "    <tr>\n",
       "      <th>2</th>\n",
       "      <td>“There are only two ways to live your life. On...</td>\n",
       "      <td>Albert Einstein</td>\n",
       "      <td>[inspirational, life, live, miracle, miracles]</td>\n",
       "    </tr>\n",
       "    <tr>\n",
       "      <th>3</th>\n",
       "      <td>“The person, be it gentleman or lady, who has ...</td>\n",
       "      <td>Jane Austen</td>\n",
       "      <td>[aliteracy, books, classic, humor]</td>\n",
       "    </tr>\n",
       "    <tr>\n",
       "      <th>4</th>\n",
       "      <td>“Imperfection is beauty, madness is genius and...</td>\n",
       "      <td>Marilyn Monroe</td>\n",
       "      <td>[be-yourself, inspirational]</td>\n",
       "    </tr>\n",
       "  </tbody>\n",
       "</table>\n",
       "</div>"
      ],
      "text/plain": [
       "                                                text           author  \\\n",
       "0  “The world as we have created it is a process ...  Albert Einstein   \n",
       "1  “It is our choices, Harry, that show what we t...     J.K. Rowling   \n",
       "2  “There are only two ways to live your life. On...  Albert Einstein   \n",
       "3  “The person, be it gentleman or lady, who has ...      Jane Austen   \n",
       "4  “Imperfection is beauty, madness is genius and...   Marilyn Monroe   \n",
       "\n",
       "                                             tags  \n",
       "0        [change, deep-thoughts, thinking, world]  \n",
       "1                            [abilities, choices]  \n",
       "2  [inspirational, life, live, miracle, miracles]  \n",
       "3              [aliteracy, books, classic, humor]  \n",
       "4                    [be-yourself, inspirational]  "
      ]
     },
     "execution_count": 16,
     "metadata": {},
     "output_type": "execute_result"
    }
   ],
   "source": [
    "df_cites.head()"
   ]
  },
  {
   "attachments": {},
   "cell_type": "markdown",
   "metadata": {},
   "source": [
    "La web té 10 pàgines i 10 cites per pàgina. Per poder guardar la informació de totes les pàgines creem un bucle:"
   ]
  },
  {
   "cell_type": "code",
   "execution_count": 20,
   "metadata": {},
   "outputs": [],
   "source": [
    "df_cites = pd.DataFrame(columns=['text', 'author', 'tags'])"
   ]
  },
  {
   "cell_type": "code",
   "execution_count": 21,
   "metadata": {},
   "outputs": [],
   "source": [
    "for i in range(1,11):\n",
    "    url = \"https://quotes.toscrape.com/page/\" + str(i) + \"/\"\n",
    "    page = requests.get(url)\n",
    "    soup = BeautifulSoup(page.content, \"html.parser\")\n",
    "    cites = soup.find_all(\"div\", class_=\"quote\")\n",
    "    for cita in cites:\n",
    "        text = cita.find(\"span\", class_=\"text\").text\n",
    "        author = cita.find(\"small\", class_=\"author\").text\n",
    "        tag_html = cita.find_all(\"a\", class_=\"tag\")\n",
    "        tag_list=[]\n",
    "        for tag in tag_html:\n",
    "            tag_list.append(tag.text)\n",
    "        df_cites = pd.concat([df_cites, pd.DataFrame([{'text': text, 'author':author, 'tags': tag_list}])], ignore_index=True)\n",
    "    "
   ]
  },
  {
   "attachments": {},
   "cell_type": "markdown",
   "metadata": {},
   "source": [
    "Comprovem que s'han guardat els 100 registres en el dataframe."
   ]
  },
  {
   "cell_type": "code",
   "execution_count": 22,
   "metadata": {},
   "outputs": [
    {
     "data": {
      "text/plain": [
       "text      100\n",
       "author    100\n",
       "tags      100\n",
       "dtype: int64"
      ]
     },
     "execution_count": 22,
     "metadata": {},
     "output_type": "execute_result"
    }
   ],
   "source": [
    "df_cites.count()"
   ]
  },
  {
   "cell_type": "code",
   "execution_count": 23,
   "metadata": {},
   "outputs": [],
   "source": [
    "df_cites.to_csv(\"bs_cites.csv\")"
   ]
  },
  {
   "attachments": {},
   "cell_type": "markdown",
   "metadata": {},
   "source": [
    "Fem el mateix amb Selenium:"
   ]
  },
  {
   "cell_type": "code",
   "execution_count": 5,
   "metadata": {},
   "outputs": [],
   "source": [
    "URL = \"http://quotes.toscrape.com\"\n",
    "\n",
    "opts = Options()\n",
    "opts.add_argument('-headless=new')\n",
    "browser = Chrome(options=opts)\n",
    "browser.get(URL)"
   ]
  },
  {
   "cell_type": "code",
   "execution_count": 101,
   "metadata": {},
   "outputs": [],
   "source": [
    "cites = browser.find_elements(By.CLASS_NAME, 'quote')"
   ]
  },
  {
   "attachments": {},
   "cell_type": "markdown",
   "metadata": {},
   "source": [
    "De nou, extraiem la informació que ens interessa: la cita, el nom de l'autor i les etiquetes (tags)."
   ]
  },
  {
   "cell_type": "code",
   "execution_count": 102,
   "metadata": {},
   "outputs": [
    {
     "name": "stdout",
     "output_type": "stream",
     "text": [
      "“The truth.\" Dumbledore sighed. \"It is a beautiful and terrible thing, and should therefore be treated with great caution.” J.K. Rowling ['Tags: truth']\n",
      "“I'm the one that's got to die when it's time for me to die, so let me live my life the way I want to.” Jimi Hendrix ['Tags: death life']\n",
      "“To die will be an awfully big adventure.” J.M. Barrie ['Tags: adventure love']\n",
      "“It takes courage to grow up and become who you really are.” E.E. Cummings ['Tags: courage']\n",
      "“But better to get hurt by the truth than comforted with a lie.” Khaled Hosseini ['Tags: life']\n",
      "“You never really understand a person until you consider things from his point of view... Until you climb inside of his skin and walk around in it.” Harper Lee ['Tags: better-life-empathy']\n",
      "“You have to write the book that wants to be written. And if the book will be too difficult for grown-ups, then you write it for children.” Madeleine L'Engle ['Tags: books children difficult grown-ups write writers writing']\n",
      "“Never tell the truth to people who are not worthy of it.” Mark Twain ['Tags: truth']\n",
      "“A person's a person, no matter how small.” Dr. Seuss ['Tags: inspirational']\n",
      "“... a mind needs books as a sword needs a whetstone, if it is to keep its edge.” George R.R. Martin ['Tags: books mind']\n"
     ]
    }
   ],
   "source": [
    "for cita in cites:\n",
    "    text = cita.find_element(By.CLASS_NAME, 'text').text\n",
    "    author = cita.find_element(By.CLASS_NAME, 'author').text\n",
    "    tag_html = cita.find_elements(By.CLASS_NAME, 'tags')\n",
    "    tag_list=[]\n",
    "    for tag in tag_html:\n",
    "        tag_list.append(tag.text)\n",
    "    print(text, author, tag_list)"
   ]
  },
  {
   "cell_type": "code",
   "execution_count": 8,
   "metadata": {},
   "outputs": [],
   "source": [
    "df_cites = pd.DataFrame(columns=['text', 'author', 'tags'])"
   ]
  },
  {
   "attachments": {},
   "cell_type": "markdown",
   "metadata": {},
   "source": [
    "Inserim les dades en el df, iterant per totes les pàgines de la web:"
   ]
  },
  {
   "cell_type": "code",
   "execution_count": 9,
   "metadata": {},
   "outputs": [],
   "source": [
    "for i in range(1,11):\n",
    "    url = \"https://quotes.toscrape.com/page/\" + str(i) + \"/\"\n",
    "    browser.get(url)\n",
    "    cites = browser.find_elements(By.CLASS_NAME, 'quote')\n",
    "    for cita in cites:\n",
    "        text=cita.find_element(By.CLASS_NAME, 'text').text\n",
    "        author=cita.find_element(By.CLASS_NAME, 'author').text\n",
    "        tag_html=cita.find_elements(By.CLASS_NAME, 'tags')\n",
    "        tag_list=[]\n",
    "        for tag in tag_html:\n",
    "            tag_list.append(tag.text)\n",
    "        df_cites = pd.concat([df_cites, pd.DataFrame([{'text': text, 'author':author, 'tags': tag_list}])], ignore_index=True)\n",
    "browser.quit()"
   ]
  },
  {
   "cell_type": "code",
   "execution_count": 10,
   "metadata": {},
   "outputs": [
    {
     "data": {
      "text/html": [
       "<div>\n",
       "<style scoped>\n",
       "    .dataframe tbody tr th:only-of-type {\n",
       "        vertical-align: middle;\n",
       "    }\n",
       "\n",
       "    .dataframe tbody tr th {\n",
       "        vertical-align: top;\n",
       "    }\n",
       "\n",
       "    .dataframe thead th {\n",
       "        text-align: right;\n",
       "    }\n",
       "</style>\n",
       "<table border=\"1\" class=\"dataframe\">\n",
       "  <thead>\n",
       "    <tr style=\"text-align: right;\">\n",
       "      <th></th>\n",
       "      <th>text</th>\n",
       "      <th>author</th>\n",
       "      <th>tags</th>\n",
       "    </tr>\n",
       "  </thead>\n",
       "  <tbody>\n",
       "    <tr>\n",
       "      <th>0</th>\n",
       "      <td>“The world as we have created it is a process ...</td>\n",
       "      <td>Albert Einstein</td>\n",
       "      <td>[Tags: change deep-thoughts thinking world]</td>\n",
       "    </tr>\n",
       "    <tr>\n",
       "      <th>1</th>\n",
       "      <td>“It is our choices, Harry, that show what we t...</td>\n",
       "      <td>J.K. Rowling</td>\n",
       "      <td>[Tags: abilities choices]</td>\n",
       "    </tr>\n",
       "    <tr>\n",
       "      <th>2</th>\n",
       "      <td>“There are only two ways to live your life. On...</td>\n",
       "      <td>Albert Einstein</td>\n",
       "      <td>[Tags: inspirational life live miracle miracles]</td>\n",
       "    </tr>\n",
       "    <tr>\n",
       "      <th>3</th>\n",
       "      <td>“The person, be it gentleman or lady, who has ...</td>\n",
       "      <td>Jane Austen</td>\n",
       "      <td>[Tags: aliteracy books classic humor]</td>\n",
       "    </tr>\n",
       "    <tr>\n",
       "      <th>4</th>\n",
       "      <td>“Imperfection is beauty, madness is genius and...</td>\n",
       "      <td>Marilyn Monroe</td>\n",
       "      <td>[Tags: be-yourself inspirational]</td>\n",
       "    </tr>\n",
       "  </tbody>\n",
       "</table>\n",
       "</div>"
      ],
      "text/plain": [
       "                                                text           author  \\\n",
       "0  “The world as we have created it is a process ...  Albert Einstein   \n",
       "1  “It is our choices, Harry, that show what we t...     J.K. Rowling   \n",
       "2  “There are only two ways to live your life. On...  Albert Einstein   \n",
       "3  “The person, be it gentleman or lady, who has ...      Jane Austen   \n",
       "4  “Imperfection is beauty, madness is genius and...   Marilyn Monroe   \n",
       "\n",
       "                                               tags  \n",
       "0       [Tags: change deep-thoughts thinking world]  \n",
       "1                         [Tags: abilities choices]  \n",
       "2  [Tags: inspirational life live miracle miracles]  \n",
       "3             [Tags: aliteracy books classic humor]  \n",
       "4                 [Tags: be-yourself inspirational]  "
      ]
     },
     "execution_count": 10,
     "metadata": {},
     "output_type": "execute_result"
    }
   ],
   "source": [
    "df_cites.head()"
   ]
  },
  {
   "cell_type": "code",
   "execution_count": 11,
   "metadata": {},
   "outputs": [],
   "source": [
    "df_cites.to_csv('sel_cites.csv')"
   ]
  },
  {
   "attachments": {},
   "cell_type": "markdown",
   "metadata": {},
   "source": [
    "Seguidament, fem el web scraping d'una pàgina de Wikipedia sobre \"Marcas de atletas españoles de todos los tiempos de maratón\". Igual que en el cas anterior, primer ho farem amb la llibreria BeautifulSoup i després amb Selenium."
   ]
  },
  {
   "cell_type": "code",
   "execution_count": 69,
   "metadata": {},
   "outputs": [],
   "source": [
    "URL = \"https://es.wikipedia.org/wiki/Marat%C3%B3n\"\n",
    "page = requests.get(URL)\n",
    "soup = BeautifulSoup(page.content, \"html.parser\")"
   ]
  },
  {
   "cell_type": "code",
   "execution_count": 70,
   "metadata": {},
   "outputs": [],
   "source": [
    "tables = soup.find_all(\"table\", class_=\"wikitable\")"
   ]
  },
  {
   "attachments": {},
   "cell_type": "markdown",
   "metadata": {},
   "source": [
    "Ens interessa la segona taula (índex 1), la que fa referència a les 10 millors marques en categoria femenina:"
   ]
  },
  {
   "cell_type": "code",
   "execution_count": 73,
   "metadata": {},
   "outputs": [
    {
     "name": "stdout",
     "output_type": "stream",
     "text": [
      "<table class=\"wikitable\">\n",
      "<tbody><tr>\n",
      "<th>Ranking\n",
      "</th>\n",
      "<th>Tiempo\n",
      "</th>\n",
      "<th>Atleta\n",
      "</th>\n",
      "<th>País\n",
      "</th>\n",
      "<th>Fecha\n",
      "</th>\n",
      "<th>Lugar\n",
      "</th></tr>\n",
      "<tr>\n",
      "<td>1\n",
      "</td>\n",
      "<td>2:11:53\n",
      "</td>\n",
      "<td><a href=\"/wiki/Tigst_Assefa\" title=\"Tigst Assefa\">Tigst Assefa</a>\n",
      "</td>\n",
      "<td><span style=\"display:none;\">Etiopía</span><span class=\"flagicon\"><span class=\"mw-image-border\" typeof=\"mw:File\"><a class=\"mw-file-description\" href=\"/wiki/Archivo:Flag_of_Ethiopia.svg\" title=\"Bandera de Etiopía\"><img alt=\"Bandera de Etiopía\" class=\"mw-file-element\" data-file-height=\"600\" data-file-width=\"1200\" decoding=\"async\" height=\"10\" src=\"//upload.wikimedia.org/wikipedia/commons/thumb/7/71/Flag_of_Ethiopia.svg/20px-Flag_of_Ethiopia.svg.png\" srcset=\"//upload.wikimedia.org/wikipedia/commons/thumb/7/71/Flag_of_Ethiopia.svg/30px-Flag_of_Ethiopia.svg.png 1.5x, //upload.wikimedia.org/wikipedia/commons/thumb/7/71/Flag_of_Ethiopia.svg/40px-Flag_of_Ethiopia.svg.png 2x\" width=\"20\"/></a></span> </span><a href=\"/wiki/Etiop%C3%ADa\" title=\"Etiopía\">Etiopía</a>\n",
      "</td>\n",
      "<td>24 de septiembre de 2023\n",
      "</td>\n",
      "<td><a href=\"/wiki/Marat%C3%B3n_de_Berl%C3%ADn\" title=\"Maratón de Berlín\">Berlín</a>\n",
      "</td></tr>\n",
      "<tr>\n",
      "<td>2\n",
      "</td>\n",
      "<td>2:13:44\n",
      "</td>\n",
      "<td><a href=\"/wiki/Sifan_Hassan\" title=\"Sifan Hassan\">Sifan Hassan</a>\n",
      "</td>\n",
      "<td><span class=\"flagicon\"><span style=\"display:none;\">Países Bajos</span><span class=\"mw-image-border\" typeof=\"mw:File\"><span><img class=\"mw-file-element\" data-file-height=\"600\" data-file-width=\"900\" decoding=\"async\" height=\"13\" src=\"//upload.wikimedia.org/wikipedia/commons/thumb/2/20/Flag_of_the_Netherlands.svg/20px-Flag_of_the_Netherlands.svg.png\" srcset=\"//upload.wikimedia.org/wikipedia/commons/thumb/2/20/Flag_of_the_Netherlands.svg/30px-Flag_of_the_Netherlands.svg.png 1.5x, //upload.wikimedia.org/wikipedia/commons/thumb/2/20/Flag_of_the_Netherlands.svg/40px-Flag_of_the_Netherlands.svg.png 2x\" width=\"20\"/></span></span> </span><a href=\"/wiki/Pa%C3%ADses_Bajos\" title=\"Países Bajos\">Países Bajos</a>\n",
      "</td>\n",
      "<td>8 de octubre de 2023\n",
      "</td>\n",
      "<td><a href=\"/wiki/Marat%C3%B3n_de_Chicago\" title=\"Maratón de Chicago\">Chicago</a>\n",
      "</td></tr>\n",
      "<tr>\n",
      "<td>3\n",
      "</td>\n",
      "<td>2:14:04\n",
      "</td>\n",
      "<td><a href=\"/wiki/Brigid_Kosgei\" title=\"Brigid Kosgei\">Brigid Kosgei</a>\n",
      "</td>\n",
      "<td><span style=\"display:none;\">Kenia</span><span class=\"flagicon\"><span class=\"mw-image-border\" typeof=\"mw:File\"><a class=\"mw-file-description\" href=\"/wiki/Archivo:Flag_of_Kenya.svg\" title=\"Bandera de Kenia\"><img alt=\"Bandera de Kenia\" class=\"mw-file-element\" data-file-height=\"600\" data-file-width=\"900\" decoding=\"async\" height=\"13\" src=\"//upload.wikimedia.org/wikipedia/commons/thumb/4/49/Flag_of_Kenya.svg/20px-Flag_of_Kenya.svg.png\" srcset=\"//upload.wikimedia.org/wikipedia/commons/thumb/4/49/Flag_of_Kenya.svg/30px-Flag_of_Kenya.svg.png 1.5x, //upload.wikimedia.org/wikipedia/commons/thumb/4/49/Flag_of_Kenya.svg/40px-Flag_of_Kenya.svg.png 2x\" width=\"20\"/></a></span> </span><a href=\"/wiki/Kenia\" title=\"Kenia\">Kenia</a>\n",
      "</td>\n",
      "<td>13 de octubre de 2019\n",
      "</td>\n",
      "<td><a href=\"/wiki/Marat%C3%B3n_de_Chicago\" title=\"Maratón de Chicago\">Chicago</a>\n",
      "</td></tr>\n",
      "<tr>\n",
      "<td>4\n",
      "</td>\n",
      "<td>2:14:18\n",
      "</td>\n",
      "<td><a href=\"/wiki/Ruth_Chepngetich\" title=\"Ruth Chepngetich\">Ruth Chepngetich</a>\n",
      "</td>\n",
      "<td><span style=\"display:none;\">Kenia</span><span class=\"flagicon\"><span class=\"mw-image-border\" typeof=\"mw:File\"><a class=\"mw-file-description\" href=\"/wiki/Archivo:Flag_of_Kenya.svg\" title=\"Bandera de Kenia\"><img alt=\"Bandera de Kenia\" class=\"mw-file-element\" data-file-height=\"600\" data-file-width=\"900\" decoding=\"async\" height=\"13\" src=\"//upload.wikimedia.org/wikipedia/commons/thumb/4/49/Flag_of_Kenya.svg/20px-Flag_of_Kenya.svg.png\" srcset=\"//upload.wikimedia.org/wikipedia/commons/thumb/4/49/Flag_of_Kenya.svg/30px-Flag_of_Kenya.svg.png 1.5x, //upload.wikimedia.org/wikipedia/commons/thumb/4/49/Flag_of_Kenya.svg/40px-Flag_of_Kenya.svg.png 2x\" width=\"20\"/></a></span> </span><a href=\"/wiki/Kenia\" title=\"Kenia\">Kenia</a>\n",
      "</td>\n",
      "<td>9 de octubre de 2022\n",
      "</td>\n",
      "<td><a href=\"/wiki/Marat%C3%B3n_de_Chicago\" title=\"Maratón de Chicago\">Chicago</a>\n",
      "</td></tr>\n",
      "<tr>\n",
      "<td>5\n",
      "</td>\n",
      "<td>2:14:58\n",
      "</td>\n",
      "<td><a class=\"new\" href=\"/w/index.php?title=Amane_Beriso_Shankule&amp;action=edit&amp;redlink=1\" title=\"Amane Beriso Shankule (aún no redactado)\">Amane Beriso Shankule</a>\n",
      "</td>\n",
      "<td><span style=\"display:none;\">Etiopía</span><span class=\"flagicon\"><span class=\"mw-image-border\" typeof=\"mw:File\"><a class=\"mw-file-description\" href=\"/wiki/Archivo:Flag_of_Ethiopia.svg\" title=\"Bandera de Etiopía\"><img alt=\"Bandera de Etiopía\" class=\"mw-file-element\" data-file-height=\"600\" data-file-width=\"1200\" decoding=\"async\" height=\"10\" src=\"//upload.wikimedia.org/wikipedia/commons/thumb/7/71/Flag_of_Ethiopia.svg/20px-Flag_of_Ethiopia.svg.png\" srcset=\"//upload.wikimedia.org/wikipedia/commons/thumb/7/71/Flag_of_Ethiopia.svg/30px-Flag_of_Ethiopia.svg.png 1.5x, //upload.wikimedia.org/wikipedia/commons/thumb/7/71/Flag_of_Ethiopia.svg/40px-Flag_of_Ethiopia.svg.png 2x\" width=\"20\"/></a></span> </span><a href=\"/wiki/Etiop%C3%ADa\" title=\"Etiopía\">Etiopía</a>\n",
      "</td>\n",
      "<td>4 de diciembre de 2022\n",
      "</td>\n",
      "<td><a href=\"/wiki/Marat%C3%B3n_de_Valencia\" title=\"Maratón de Valencia\">Valencia</a>\n",
      "</td></tr>\n",
      "<tr>\n",
      "<td>6\n",
      "</td>\n",
      "<td>2:15:25\n",
      "</td>\n",
      "<td><a href=\"/wiki/Paula_Radcliffe\" title=\"Paula Radcliffe\">Paula Radcliffe</a>\n",
      "</td>\n",
      "<td><span style=\"display:none;\">Reino Unido</span><span class=\"flagicon\"><span class=\"mw-image-border\" typeof=\"mw:File\"><a class=\"mw-file-description\" href=\"/wiki/Archivo:Flag_of_the_United_Kingdom_(3-5).svg\" title=\"Bandera del Reino Unido\"><img alt=\"Bandera del Reino Unido\" class=\"mw-file-element\" data-file-height=\"600\" data-file-width=\"1000\" decoding=\"async\" height=\"12\" src=\"//upload.wikimedia.org/wikipedia/commons/thumb/8/83/Flag_of_the_United_Kingdom_%283-5%29.svg/20px-Flag_of_the_United_Kingdom_%283-5%29.svg.png\" srcset=\"//upload.wikimedia.org/wikipedia/commons/thumb/8/83/Flag_of_the_United_Kingdom_%283-5%29.svg/30px-Flag_of_the_United_Kingdom_%283-5%29.svg.png 1.5x, //upload.wikimedia.org/wikipedia/commons/thumb/8/83/Flag_of_the_United_Kingdom_%283-5%29.svg/40px-Flag_of_the_United_Kingdom_%283-5%29.svg.png 2x\" width=\"20\"/></a></span> </span><a href=\"/wiki/Reino_Unido\" title=\"Reino Unido\">Reino Unido</a>\n",
      "</td>\n",
      "<td>13 de abril de 2003\n",
      "</td>\n",
      "<td><a href=\"/wiki/Marat%C3%B3n_de_Londres\" title=\"Maratón de Londres\">Londres</a>\n",
      "</td></tr>\n",
      "<tr>\n",
      "<td>7\n",
      "</td>\n",
      "<td>2:16:28\n",
      "</td>\n",
      "<td><a href=\"/wiki/Rosemary_Wanjiru\" title=\"Rosemary Wanjiru\">Rosemary Wanjiru</a>\n",
      "</td>\n",
      "<td><span style=\"display:none;\">Kenia</span><span class=\"flagicon\"><span class=\"mw-image-border\" typeof=\"mw:File\"><a class=\"mw-file-description\" href=\"/wiki/Archivo:Flag_of_Kenya.svg\" title=\"Bandera de Kenia\"><img alt=\"Bandera de Kenia\" class=\"mw-file-element\" data-file-height=\"600\" data-file-width=\"900\" decoding=\"async\" height=\"13\" src=\"//upload.wikimedia.org/wikipedia/commons/thumb/4/49/Flag_of_Kenya.svg/20px-Flag_of_Kenya.svg.png\" srcset=\"//upload.wikimedia.org/wikipedia/commons/thumb/4/49/Flag_of_Kenya.svg/30px-Flag_of_Kenya.svg.png 1.5x, //upload.wikimedia.org/wikipedia/commons/thumb/4/49/Flag_of_Kenya.svg/40px-Flag_of_Kenya.svg.png 2x\" width=\"20\"/></a></span> </span><a href=\"/wiki/Kenia\" title=\"Kenia\">Kenia</a>\n",
      "</td>\n",
      "<td>5 de marzo de 2023\n",
      "</td>\n",
      "<td><a href=\"/wiki/Marat%C3%B3n_de_Tokio\" title=\"Maratón de Tokio\">Tokio</a>\n",
      "</td></tr>\n",
      "<tr>\n",
      "<td>8\n",
      "</td>\n",
      "<td>2:16:49\n",
      "</td>\n",
      "<td><a href=\"/wiki/Letesenbet_Gidey\" title=\"Letesenbet Gidey\">Letesenbet Gidey</a>\n",
      "</td>\n",
      "<td><span style=\"display:none;\">Etiopía</span><span class=\"flagicon\"><span class=\"mw-image-border\" typeof=\"mw:File\"><a class=\"mw-file-description\" href=\"/wiki/Archivo:Flag_of_Ethiopia.svg\" title=\"Bandera de Etiopía\"><img alt=\"Bandera de Etiopía\" class=\"mw-file-element\" data-file-height=\"600\" data-file-width=\"1200\" decoding=\"async\" height=\"10\" src=\"//upload.wikimedia.org/wikipedia/commons/thumb/7/71/Flag_of_Ethiopia.svg/20px-Flag_of_Ethiopia.svg.png\" srcset=\"//upload.wikimedia.org/wikipedia/commons/thumb/7/71/Flag_of_Ethiopia.svg/30px-Flag_of_Ethiopia.svg.png 1.5x, //upload.wikimedia.org/wikipedia/commons/thumb/7/71/Flag_of_Ethiopia.svg/40px-Flag_of_Ethiopia.svg.png 2x\" width=\"20\"/></a></span> </span><a href=\"/wiki/Etiop%C3%ADa\" title=\"Etiopía\">Etiopía</a>\n",
      "</td>\n",
      "<td>4 de diciembre de 2022\n",
      "</td>\n",
      "<td><a href=\"/wiki/Marat%C3%B3n_de_Valencia\" title=\"Maratón de Valencia\">Valencia</a>\n",
      "</td></tr>\n",
      "<tr>\n",
      "<td>9\n",
      "</td>\n",
      "<td>2:16:56\n",
      "</td>\n",
      "<td><a class=\"new\" href=\"/w/index.php?title=Tsehay_Gemechu&amp;action=edit&amp;redlink=1\" title=\"Tsehay Gemechu (aún no redactado)\">Tsehay Gemechu</a>\n",
      "</td>\n",
      "<td><span style=\"display:none;\">Etiopía</span><span class=\"flagicon\"><span class=\"mw-image-border\" typeof=\"mw:File\"><a class=\"mw-file-description\" href=\"/wiki/Archivo:Flag_of_Ethiopia.svg\" title=\"Bandera de Etiopía\"><img alt=\"Bandera de Etiopía\" class=\"mw-file-element\" data-file-height=\"600\" data-file-width=\"1200\" decoding=\"async\" height=\"10\" src=\"//upload.wikimedia.org/wikipedia/commons/thumb/7/71/Flag_of_Ethiopia.svg/20px-Flag_of_Ethiopia.svg.png\" srcset=\"//upload.wikimedia.org/wikipedia/commons/thumb/7/71/Flag_of_Ethiopia.svg/30px-Flag_of_Ethiopia.svg.png 1.5x, //upload.wikimedia.org/wikipedia/commons/thumb/7/71/Flag_of_Ethiopia.svg/40px-Flag_of_Ethiopia.svg.png 2x\" width=\"20\"/></a></span> </span><a href=\"/wiki/Etiop%C3%ADa\" title=\"Etiopía\">Etiopía</a>\n",
      "</td>\n",
      "<td>5 de marzo de 2023\n",
      "</td>\n",
      "<td><a href=\"/wiki/Marat%C3%B3n_de_Tokio\" title=\"Maratón de Tokio\">Tokio</a>\n",
      "</td></tr>\n",
      "<tr>\n",
      "<td>10\n",
      "</td>\n",
      "<td>2:17:01\n",
      "</td>\n",
      "<td><a class=\"mw-redirect\" href=\"/wiki/Mary_Jepkosgei_Keitany\" title=\"Mary Jepkosgei Keitany\">Mary Jepkosgei Keitany</a>\n",
      "</td>\n",
      "<td><span style=\"display:none;\">Kenia</span><span class=\"flagicon\"><span class=\"mw-image-border\" typeof=\"mw:File\"><a class=\"mw-file-description\" href=\"/wiki/Archivo:Flag_of_Kenya.svg\" title=\"Bandera de Kenia\"><img alt=\"Bandera de Kenia\" class=\"mw-file-element\" data-file-height=\"600\" data-file-width=\"900\" decoding=\"async\" height=\"13\" src=\"//upload.wikimedia.org/wikipedia/commons/thumb/4/49/Flag_of_Kenya.svg/20px-Flag_of_Kenya.svg.png\" srcset=\"//upload.wikimedia.org/wikipedia/commons/thumb/4/49/Flag_of_Kenya.svg/30px-Flag_of_Kenya.svg.png 1.5x, //upload.wikimedia.org/wikipedia/commons/thumb/4/49/Flag_of_Kenya.svg/40px-Flag_of_Kenya.svg.png 2x\" width=\"20\"/></a></span> </span><a href=\"/wiki/Kenia\" title=\"Kenia\">Kenia</a>\n",
      "</td>\n",
      "<td>23 de abril de 2017\n",
      "</td>\n",
      "<td><a href=\"/wiki/Marat%C3%B3n_de_Londres\" title=\"Maratón de Londres\">Londres</a>\n",
      "</td></tr>\n",
      "</tbody></table>\n"
     ]
    }
   ],
   "source": [
    "marques_table = tables[1]\n",
    "print(marques_table)"
   ]
  },
  {
   "attachments": {},
   "cell_type": "markdown",
   "metadata": {},
   "source": [
    "Els noms de les columnes estan als contenidors 'th':"
   ]
  },
  {
   "cell_type": "code",
   "execution_count": 74,
   "metadata": {},
   "outputs": [
    {
     "name": "stdout",
     "output_type": "stream",
     "text": [
      "['Ranking\\n', 'Tiempo\\n', 'Atleta\\n', 'País\\n', 'Fecha\\n', 'Lugar\\n']\n"
     ]
    }
   ],
   "source": [
    "headers= marques_table.findAll(\"th\")\n",
    "columns=[]\n",
    "for header in headers:\n",
    "    columns.append(header.text)\n",
    "print(columns)"
   ]
  },
  {
   "attachments": {},
   "cell_type": "markdown",
   "metadata": {},
   "source": [
    "Eliminem el salt de línia."
   ]
  },
  {
   "cell_type": "code",
   "execution_count": 75,
   "metadata": {},
   "outputs": [
    {
     "name": "stdout",
     "output_type": "stream",
     "text": [
      "['Ranking', 'Tiempo', 'Atleta', 'País', 'Fecha', 'Lugar']\n"
     ]
    }
   ],
   "source": [
    "columns = [elemento.replace('\\n', '') for elemento in columns]\n",
    "print(columns)"
   ]
  },
  {
   "attachments": {},
   "cell_type": "markdown",
   "metadata": {},
   "source": [
    "Ara que ja tenim el nom de les columnes, creem el df:"
   ]
  },
  {
   "cell_type": "code",
   "execution_count": 76,
   "metadata": {},
   "outputs": [],
   "source": [
    "df_marques = pd.DataFrame(columns=columns)"
   ]
  },
  {
   "attachments": {},
   "cell_type": "markdown",
   "metadata": {},
   "source": [
    "Extraiem el contingut de les files dels contenidors 'tr':"
   ]
  },
  {
   "cell_type": "code",
   "execution_count": 77,
   "metadata": {},
   "outputs": [],
   "source": [
    "rows = marques_table.findAll(\"tr\")"
   ]
  },
  {
   "attachments": {},
   "cell_type": "markdown",
   "metadata": {},
   "source": [
    "Ens quedem amb totes les files a partir de la segona (índex 1), ja que la primera conté el nom de les columnes."
   ]
  },
  {
   "cell_type": "code",
   "execution_count": 78,
   "metadata": {},
   "outputs": [],
   "source": [
    "rows = rows[1:]"
   ]
  },
  {
   "attachments": {},
   "cell_type": "markdown",
   "metadata": {},
   "source": [
    "Incorporem les dades en el df que hem creat, iterant per totes les files de la taula."
   ]
  },
  {
   "cell_type": "code",
   "execution_count": 80,
   "metadata": {},
   "outputs": [],
   "source": [
    "for row in rows:\n",
    "    cells = row.findAll(\"td\")\n",
    "    ranking = cells[0].text\n",
    "    tiempo = cells[1].text\n",
    "    atleta = cells[2].text\n",
    "    pais = cells[3].text\n",
    "    fecha = cells[4].text\n",
    "    lugar =  cells[5].text\n",
    "    df_marques = pd.concat([df_marques, pd.DataFrame([{'Ranking': ranking, 'Tiempo' : tiempo, 'Atleta' : atleta, 'País': pais, 'Fecha' : fecha, 'Lugar': lugar}])])"
   ]
  },
  {
   "cell_type": "code",
   "execution_count": 81,
   "metadata": {},
   "outputs": [
    {
     "data": {
      "text/html": [
       "<div>\n",
       "<style scoped>\n",
       "    .dataframe tbody tr th:only-of-type {\n",
       "        vertical-align: middle;\n",
       "    }\n",
       "\n",
       "    .dataframe tbody tr th {\n",
       "        vertical-align: top;\n",
       "    }\n",
       "\n",
       "    .dataframe thead th {\n",
       "        text-align: right;\n",
       "    }\n",
       "</style>\n",
       "<table border=\"1\" class=\"dataframe\">\n",
       "  <thead>\n",
       "    <tr style=\"text-align: right;\">\n",
       "      <th></th>\n",
       "      <th>Ranking</th>\n",
       "      <th>Tiempo</th>\n",
       "      <th>Atleta</th>\n",
       "      <th>País</th>\n",
       "      <th>Fecha</th>\n",
       "      <th>Lugar</th>\n",
       "    </tr>\n",
       "  </thead>\n",
       "  <tbody>\n",
       "    <tr>\n",
       "      <th>0</th>\n",
       "      <td>1\\n</td>\n",
       "      <td>2:11:53\\n</td>\n",
       "      <td>Tigst Assefa\\n</td>\n",
       "      <td>Etiopía Etiopía\\n</td>\n",
       "      <td>24 de septiembre de 2023\\n</td>\n",
       "      <td>Berlín\\n</td>\n",
       "    </tr>\n",
       "    <tr>\n",
       "      <th>0</th>\n",
       "      <td>2\\n</td>\n",
       "      <td>2:13:44\\n</td>\n",
       "      <td>Sifan Hassan\\n</td>\n",
       "      <td>Países Bajos Países Bajos\\n</td>\n",
       "      <td>8 de octubre de 2023\\n</td>\n",
       "      <td>Chicago\\n</td>\n",
       "    </tr>\n",
       "    <tr>\n",
       "      <th>0</th>\n",
       "      <td>3\\n</td>\n",
       "      <td>2:14:04\\n</td>\n",
       "      <td>Brigid Kosgei\\n</td>\n",
       "      <td>Kenia Kenia\\n</td>\n",
       "      <td>13 de octubre de 2019\\n</td>\n",
       "      <td>Chicago\\n</td>\n",
       "    </tr>\n",
       "    <tr>\n",
       "      <th>0</th>\n",
       "      <td>4\\n</td>\n",
       "      <td>2:14:18\\n</td>\n",
       "      <td>Ruth Chepngetich\\n</td>\n",
       "      <td>Kenia Kenia\\n</td>\n",
       "      <td>9 de octubre de 2022\\n</td>\n",
       "      <td>Chicago\\n</td>\n",
       "    </tr>\n",
       "    <tr>\n",
       "      <th>0</th>\n",
       "      <td>5\\n</td>\n",
       "      <td>2:14:58\\n</td>\n",
       "      <td>Amane Beriso Shankule\\n</td>\n",
       "      <td>Etiopía Etiopía\\n</td>\n",
       "      <td>4 de diciembre de 2022\\n</td>\n",
       "      <td>Valencia\\n</td>\n",
       "    </tr>\n",
       "  </tbody>\n",
       "</table>\n",
       "</div>"
      ],
      "text/plain": [
       "  Ranking     Tiempo                   Atleta                         País  \\\n",
       "0     1\\n  2:11:53\\n           Tigst Assefa\\n            Etiopía Etiopía\\n   \n",
       "0     2\\n  2:13:44\\n           Sifan Hassan\\n  Países Bajos Países Bajos\\n   \n",
       "0     3\\n  2:14:04\\n          Brigid Kosgei\\n                Kenia Kenia\\n   \n",
       "0     4\\n  2:14:18\\n       Ruth Chepngetich\\n                Kenia Kenia\\n   \n",
       "0     5\\n  2:14:58\\n  Amane Beriso Shankule\\n            Etiopía Etiopía\\n   \n",
       "\n",
       "                        Fecha       Lugar  \n",
       "0  24 de septiembre de 2023\\n    Berlín\\n  \n",
       "0      8 de octubre de 2023\\n   Chicago\\n  \n",
       "0     13 de octubre de 2019\\n   Chicago\\n  \n",
       "0      9 de octubre de 2022\\n   Chicago\\n  \n",
       "0    4 de diciembre de 2022\\n  Valencia\\n  "
      ]
     },
     "execution_count": 81,
     "metadata": {},
     "output_type": "execute_result"
    }
   ],
   "source": [
    "df_marques.head(5)"
   ]
  },
  {
   "attachments": {},
   "cell_type": "markdown",
   "metadata": {},
   "source": [
    "Eliminem els salts de línia '\\n':"
   ]
  },
  {
   "cell_type": "code",
   "execution_count": 85,
   "metadata": {},
   "outputs": [],
   "source": [
    "columns = ['Ranking', 'Tiempo', 'Atleta', 'País', 'Fecha', 'Lugar']\n",
    "\n",
    "for column in columns:\n",
    "    df_marques[column] = df_marques[column].str.replace('\\n', '')"
   ]
  },
  {
   "cell_type": "code",
   "execution_count": 86,
   "metadata": {},
   "outputs": [
    {
     "data": {
      "text/html": [
       "<div>\n",
       "<style scoped>\n",
       "    .dataframe tbody tr th:only-of-type {\n",
       "        vertical-align: middle;\n",
       "    }\n",
       "\n",
       "    .dataframe tbody tr th {\n",
       "        vertical-align: top;\n",
       "    }\n",
       "\n",
       "    .dataframe thead th {\n",
       "        text-align: right;\n",
       "    }\n",
       "</style>\n",
       "<table border=\"1\" class=\"dataframe\">\n",
       "  <thead>\n",
       "    <tr style=\"text-align: right;\">\n",
       "      <th></th>\n",
       "      <th>Ranking</th>\n",
       "      <th>Tiempo</th>\n",
       "      <th>Atleta</th>\n",
       "      <th>País</th>\n",
       "      <th>Fecha</th>\n",
       "      <th>Lugar</th>\n",
       "    </tr>\n",
       "  </thead>\n",
       "  <tbody>\n",
       "    <tr>\n",
       "      <th>0</th>\n",
       "      <td>1</td>\n",
       "      <td>2:11:53</td>\n",
       "      <td>Tigst Assefa</td>\n",
       "      <td>Etiopía Etiopía</td>\n",
       "      <td>24 de septiembre de 2023</td>\n",
       "      <td>Berlín</td>\n",
       "    </tr>\n",
       "    <tr>\n",
       "      <th>0</th>\n",
       "      <td>2</td>\n",
       "      <td>2:13:44</td>\n",
       "      <td>Sifan Hassan</td>\n",
       "      <td>Países Bajos Países Bajos</td>\n",
       "      <td>8 de octubre de 2023</td>\n",
       "      <td>Chicago</td>\n",
       "    </tr>\n",
       "    <tr>\n",
       "      <th>0</th>\n",
       "      <td>3</td>\n",
       "      <td>2:14:04</td>\n",
       "      <td>Brigid Kosgei</td>\n",
       "      <td>Kenia Kenia</td>\n",
       "      <td>13 de octubre de 2019</td>\n",
       "      <td>Chicago</td>\n",
       "    </tr>\n",
       "    <tr>\n",
       "      <th>0</th>\n",
       "      <td>4</td>\n",
       "      <td>2:14:18</td>\n",
       "      <td>Ruth Chepngetich</td>\n",
       "      <td>Kenia Kenia</td>\n",
       "      <td>9 de octubre de 2022</td>\n",
       "      <td>Chicago</td>\n",
       "    </tr>\n",
       "    <tr>\n",
       "      <th>0</th>\n",
       "      <td>5</td>\n",
       "      <td>2:14:58</td>\n",
       "      <td>Amane Beriso Shankule</td>\n",
       "      <td>Etiopía Etiopía</td>\n",
       "      <td>4 de diciembre de 2022</td>\n",
       "      <td>Valencia</td>\n",
       "    </tr>\n",
       "  </tbody>\n",
       "</table>\n",
       "</div>"
      ],
      "text/plain": [
       "  Ranking   Tiempo                 Atleta                       País  \\\n",
       "0       1  2:11:53           Tigst Assefa            Etiopía Etiopía   \n",
       "0       2  2:13:44           Sifan Hassan  Países Bajos Países Bajos   \n",
       "0       3  2:14:04          Brigid Kosgei                Kenia Kenia   \n",
       "0       4  2:14:18       Ruth Chepngetich                Kenia Kenia   \n",
       "0       5  2:14:58  Amane Beriso Shankule            Etiopía Etiopía   \n",
       "\n",
       "                      Fecha     Lugar  \n",
       "0  24 de septiembre de 2023    Berlín  \n",
       "0      8 de octubre de 2023   Chicago  \n",
       "0     13 de octubre de 2019   Chicago  \n",
       "0      9 de octubre de 2022   Chicago  \n",
       "0    4 de diciembre de 2022  Valencia  "
      ]
     },
     "execution_count": 86,
     "metadata": {},
     "output_type": "execute_result"
    }
   ],
   "source": [
    "df_marques.head(5)"
   ]
  },
  {
   "attachments": {},
   "cell_type": "markdown",
   "metadata": {},
   "source": [
    "Guardem el df en un csv:"
   ]
  },
  {
   "cell_type": "code",
   "execution_count": 98,
   "metadata": {},
   "outputs": [],
   "source": [
    "df_marques.to_csv('bs_marques.csv')"
   ]
  },
  {
   "attachments": {},
   "cell_type": "markdown",
   "metadata": {},
   "source": [
    "Per últim, fem el mateix amb Selenium:"
   ]
  },
  {
   "cell_type": "code",
   "execution_count": 23,
   "metadata": {},
   "outputs": [],
   "source": [
    "URL = \"https://es.wikipedia.org/wiki/Marat%C3%B3n\"\n",
    "\n",
    "opts = Options()\n",
    "opts.add_argument('-headless=new')\n",
    "browser = Chrome(options=opts)\n",
    "browser.get(URL)"
   ]
  },
  {
   "cell_type": "code",
   "execution_count": 24,
   "metadata": {},
   "outputs": [],
   "source": [
    "tables=browser.find_elements(By.CLASS_NAME, 'wikitable')"
   ]
  },
  {
   "attachments": {},
   "cell_type": "markdown",
   "metadata": {},
   "source": [
    "Extraiem la taula dels records de la categoria femenina:"
   ]
  },
  {
   "cell_type": "code",
   "execution_count": 25,
   "metadata": {},
   "outputs": [],
   "source": [
    "marques_table = tables[1]"
   ]
  },
  {
   "attachments": {},
   "cell_type": "markdown",
   "metadata": {},
   "source": [
    "Identifiquem el nom de les columnes de la taula."
   ]
  },
  {
   "cell_type": "code",
   "execution_count": 26,
   "metadata": {},
   "outputs": [
    {
     "name": "stdout",
     "output_type": "stream",
     "text": [
      "['Ranking', 'Tiempo', 'Atleta', 'País', 'Fecha', 'Lugar']\n"
     ]
    }
   ],
   "source": [
    "headers= marques_table.find_elements(By.TAG_NAME, \"th\")\n",
    "columns=[]\n",
    "for header in headers:\n",
    "    columns.append(header.text)\n",
    "print(columns)"
   ]
  },
  {
   "attachments": {},
   "cell_type": "markdown",
   "metadata": {},
   "source": [
    "Creem el df amb les columnes anteriors:"
   ]
  },
  {
   "cell_type": "code",
   "execution_count": 27,
   "metadata": {},
   "outputs": [],
   "source": [
    "df_marques = pd.DataFrame(columns = columns)"
   ]
  },
  {
   "attachments": {},
   "cell_type": "markdown",
   "metadata": {},
   "source": [
    "Ara extraiem la informació de les files, sense comptar la primera ja que correspon al nom de les columnes."
   ]
  },
  {
   "cell_type": "code",
   "execution_count": 28,
   "metadata": {},
   "outputs": [],
   "source": [
    "rows = marques_table.find_elements(By.TAG_NAME, \"tr\")\n",
    "rows = rows[1:]"
   ]
  },
  {
   "cell_type": "code",
   "execution_count": 29,
   "metadata": {},
   "outputs": [],
   "source": [
    "for row in rows:\n",
    "    cells = row.find_elements(By.TAG_NAME, \"td\")\n",
    "    ranking = cells[0].text\n",
    "    tiempo = cells[1].text\n",
    "    atleta = cells[2].text\n",
    "    pais = cells[3].text\n",
    "    fecha = cells[4].text\n",
    "    lugar = cells[5].text\n",
    "    df_marques = pd.concat([df_marques, pd.DataFrame([{'Ranking': ranking, 'Tiempo' : tiempo, 'Atleta' : atleta, 'País': pais, 'Fecha' : fecha, 'Lugar':lugar}])])\n",
    "browser.quit()   "
   ]
  },
  {
   "cell_type": "code",
   "execution_count": 30,
   "metadata": {},
   "outputs": [
    {
     "data": {
      "text/html": [
       "<div>\n",
       "<style scoped>\n",
       "    .dataframe tbody tr th:only-of-type {\n",
       "        vertical-align: middle;\n",
       "    }\n",
       "\n",
       "    .dataframe tbody tr th {\n",
       "        vertical-align: top;\n",
       "    }\n",
       "\n",
       "    .dataframe thead th {\n",
       "        text-align: right;\n",
       "    }\n",
       "</style>\n",
       "<table border=\"1\" class=\"dataframe\">\n",
       "  <thead>\n",
       "    <tr style=\"text-align: right;\">\n",
       "      <th></th>\n",
       "      <th>Ranking</th>\n",
       "      <th>Tiempo</th>\n",
       "      <th>Atleta</th>\n",
       "      <th>País</th>\n",
       "      <th>Fecha</th>\n",
       "      <th>Lugar</th>\n",
       "    </tr>\n",
       "  </thead>\n",
       "  <tbody>\n",
       "    <tr>\n",
       "      <th>0</th>\n",
       "      <td>1</td>\n",
       "      <td>2:11:53</td>\n",
       "      <td>Tigst Assefa</td>\n",
       "      <td>Etiopía</td>\n",
       "      <td>24 de septiembre de 2023</td>\n",
       "      <td>Berlín</td>\n",
       "    </tr>\n",
       "    <tr>\n",
       "      <th>0</th>\n",
       "      <td>2</td>\n",
       "      <td>2:13:44</td>\n",
       "      <td>Sifan Hassan</td>\n",
       "      <td>Países Bajos</td>\n",
       "      <td>8 de octubre de 2023</td>\n",
       "      <td>Chicago</td>\n",
       "    </tr>\n",
       "    <tr>\n",
       "      <th>0</th>\n",
       "      <td>3</td>\n",
       "      <td>2:14:04</td>\n",
       "      <td>Brigid Kosgei</td>\n",
       "      <td>Kenia</td>\n",
       "      <td>13 de octubre de 2019</td>\n",
       "      <td>Chicago</td>\n",
       "    </tr>\n",
       "    <tr>\n",
       "      <th>0</th>\n",
       "      <td>4</td>\n",
       "      <td>2:14:18</td>\n",
       "      <td>Ruth Chepngetich</td>\n",
       "      <td>Kenia</td>\n",
       "      <td>9 de octubre de 2022</td>\n",
       "      <td>Chicago</td>\n",
       "    </tr>\n",
       "    <tr>\n",
       "      <th>0</th>\n",
       "      <td>5</td>\n",
       "      <td>2:14:58</td>\n",
       "      <td>Amane Beriso Shankule</td>\n",
       "      <td>Etiopía</td>\n",
       "      <td>4 de diciembre de 2022</td>\n",
       "      <td>Valencia</td>\n",
       "    </tr>\n",
       "  </tbody>\n",
       "</table>\n",
       "</div>"
      ],
      "text/plain": [
       "  Ranking   Tiempo                 Atleta           País  \\\n",
       "0       1  2:11:53           Tigst Assefa        Etiopía   \n",
       "0       2  2:13:44           Sifan Hassan   Países Bajos   \n",
       "0       3  2:14:04          Brigid Kosgei          Kenia   \n",
       "0       4  2:14:18       Ruth Chepngetich          Kenia   \n",
       "0       5  2:14:58  Amane Beriso Shankule        Etiopía   \n",
       "\n",
       "                      Fecha     Lugar  \n",
       "0  24 de septiembre de 2023    Berlín  \n",
       "0      8 de octubre de 2023   Chicago  \n",
       "0     13 de octubre de 2019   Chicago  \n",
       "0      9 de octubre de 2022   Chicago  \n",
       "0    4 de diciembre de 2022  Valencia  "
      ]
     },
     "execution_count": 30,
     "metadata": {},
     "output_type": "execute_result"
    }
   ],
   "source": [
    "df_marques.head(5)"
   ]
  },
  {
   "attachments": {},
   "cell_type": "markdown",
   "metadata": {},
   "source": [
    "Finalment ho guardem en un arxiu csv."
   ]
  },
  {
   "cell_type": "code",
   "execution_count": 31,
   "metadata": {},
   "outputs": [],
   "source": [
    "df_marques.to_csv('sel_marques.csv')"
   ]
  },
  {
   "attachments": {},
   "cell_type": "markdown",
   "metadata": {},
   "source": [
    "#### Exercici 2. Documenta en un Word el teu conjunt de dades generat amb la informació que tenen els diferents arxius de Kaggle.\n",
    "\n",
    "Veure el document 'Sobre el Dataset', en arxiu pdf."
   ]
  },
  {
   "attachments": {},
   "cell_type": "markdown",
   "metadata": {},
   "source": [
    "#### Exercici 3. Tria una pàgina web que tu vulguis i realitza web scraping mitjançant la llibreria Selenium primer i Scrapy després. "
   ]
  },
  {
   "attachments": {},
   "cell_type": "markdown",
   "metadata": {},
   "source": [
    "La pàgina web escollida és: https://es.wikipedia.org/wiki/Anexo:Marcas_del_tenis_individual_masculino_(Era_Abierta). Conté els títols d'èlit obtinguts pels tenistes del ATP."
   ]
  },
  {
   "attachments": {},
   "cell_type": "markdown",
   "metadata": {},
   "source": [
    "Fem el web scraping amb Selenium:"
   ]
  },
  {
   "cell_type": "code",
   "execution_count": 85,
   "metadata": {},
   "outputs": [],
   "source": [
    "URL = \"https://es.wikipedia.org/wiki/Anexo:Marcas_del_tenis_individual_masculino_(Era_Abierta)\"\n",
    "\n",
    "opts = Options()\n",
    "opts.add_argument('-headless=new')\n",
    "browser = Chrome(options=opts)\n",
    "browser.get(URL)"
   ]
  },
  {
   "attachments": {},
   "cell_type": "markdown",
   "metadata": {},
   "source": [
    "Busquem les taules de la web:"
   ]
  },
  {
   "cell_type": "code",
   "execution_count": 86,
   "metadata": {},
   "outputs": [],
   "source": [
    "tables=browser.find_elements(By.CLASS_NAME, 'wikitable')"
   ]
  },
  {
   "attachments": {},
   "cell_type": "markdown",
   "metadata": {},
   "source": [
    "Extraiem la taula que ens interessa \"Títulos de élite\", que és la tretzena de la web (index 12):"
   ]
  },
  {
   "cell_type": "code",
   "execution_count": 87,
   "metadata": {},
   "outputs": [],
   "source": [
    "titols_taula = tables[12]"
   ]
  },
  {
   "attachments": {},
   "cell_type": "markdown",
   "metadata": {},
   "source": [
    "Extraiem els noms de les columnes:"
   ]
  },
  {
   "cell_type": "code",
   "execution_count": 88,
   "metadata": {},
   "outputs": [
    {
     "name": "stdout",
     "output_type": "stream",
     "text": [
      "['', 'Tenista', 'Total', 'Grand Slam', 'Torneo de Maestros*', 'Masters 1000**', 'JJ.OO.***']\n"
     ]
    }
   ],
   "source": [
    "headers= titols_taula.find_elements(By.TAG_NAME, \"th\")\n",
    "columns=[]\n",
    "for header in headers:\n",
    "    columns.append(header.text)\n",
    "print(columns)"
   ]
  },
  {
   "attachments": {},
   "cell_type": "markdown",
   "metadata": {},
   "source": [
    "Creem el df i extraiem la informació de les files de la taula:"
   ]
  },
  {
   "cell_type": "code",
   "execution_count": 89,
   "metadata": {},
   "outputs": [],
   "source": [
    "df_titols = pd.DataFrame(columns = columns)"
   ]
  },
  {
   "cell_type": "code",
   "execution_count": 90,
   "metadata": {},
   "outputs": [
    {
     "data": {
      "text/html": [
       "<div>\n",
       "<style scoped>\n",
       "    .dataframe tbody tr th:only-of-type {\n",
       "        vertical-align: middle;\n",
       "    }\n",
       "\n",
       "    .dataframe tbody tr th {\n",
       "        vertical-align: top;\n",
       "    }\n",
       "\n",
       "    .dataframe thead th {\n",
       "        text-align: right;\n",
       "    }\n",
       "</style>\n",
       "<table border=\"1\" class=\"dataframe\">\n",
       "  <thead>\n",
       "    <tr style=\"text-align: right;\">\n",
       "      <th></th>\n",
       "      <th></th>\n",
       "      <th>Tenista</th>\n",
       "      <th>Total</th>\n",
       "      <th>Grand Slam</th>\n",
       "      <th>Torneo de Maestros*</th>\n",
       "      <th>Masters 1000**</th>\n",
       "      <th>JJ.OO.***</th>\n",
       "    </tr>\n",
       "  </thead>\n",
       "  <tbody>\n",
       "  </tbody>\n",
       "</table>\n",
       "</div>"
      ],
      "text/plain": [
       "Empty DataFrame\n",
       "Columns: [, Tenista, Total, Grand Slam, Torneo de Maestros*, Masters 1000**, JJ.OO.***]\n",
       "Index: []"
      ]
     },
     "execution_count": 90,
     "metadata": {},
     "output_type": "execute_result"
    }
   ],
   "source": [
    "df_titols"
   ]
  },
  {
   "cell_type": "code",
   "execution_count": 91,
   "metadata": {},
   "outputs": [],
   "source": [
    "rows = titols_taula.find_elements(By.TAG_NAME, \"tr\")\n",
    "rows = rows[1:]"
   ]
  },
  {
   "cell_type": "code",
   "execution_count": 92,
   "metadata": {},
   "outputs": [],
   "source": [
    "for row in rows:\n",
    "    cells = row.find_elements(By.TAG_NAME, \"td\")\n",
    "    tenista = cells[1].text\n",
    "    total = cells[2].text\n",
    "    gs = cells[3].text\n",
    "    tdm = cells[4].text\n",
    "    m1000 = cells[5].text\n",
    "    jjoo = cells[6].text\n",
    "    df_titols = pd.concat([df_titols, pd.DataFrame([{'Tenista': tenista, 'Total' : total, 'Grand Slam' : gs, 'Torneo de Maestros*': tdm, 'Masters 1000**' : m1000, 'JJ.OO.***':jjoo}])])\n",
    "browser.quit()  "
   ]
  },
  {
   "cell_type": "code",
   "execution_count": 93,
   "metadata": {},
   "outputs": [
    {
     "data": {
      "text/html": [
       "<div>\n",
       "<style scoped>\n",
       "    .dataframe tbody tr th:only-of-type {\n",
       "        vertical-align: middle;\n",
       "    }\n",
       "\n",
       "    .dataframe tbody tr th {\n",
       "        vertical-align: top;\n",
       "    }\n",
       "\n",
       "    .dataframe thead th {\n",
       "        text-align: right;\n",
       "    }\n",
       "</style>\n",
       "<table border=\"1\" class=\"dataframe\">\n",
       "  <thead>\n",
       "    <tr style=\"text-align: right;\">\n",
       "      <th></th>\n",
       "      <th></th>\n",
       "      <th>Tenista</th>\n",
       "      <th>Total</th>\n",
       "      <th>Grand Slam</th>\n",
       "      <th>Torneo de Maestros*</th>\n",
       "      <th>Masters 1000**</th>\n",
       "      <th>JJ.OO.***</th>\n",
       "    </tr>\n",
       "  </thead>\n",
       "  <tbody>\n",
       "    <tr>\n",
       "      <th>0</th>\n",
       "      <td>NaN</td>\n",
       "      <td>Novak Djokovic</td>\n",
       "      <td>71</td>\n",
       "      <td>24</td>\n",
       "      <td>7</td>\n",
       "      <td>40</td>\n",
       "      <td>0</td>\n",
       "    </tr>\n",
       "    <tr>\n",
       "      <th>0</th>\n",
       "      <td>NaN</td>\n",
       "      <td>Rafael Nadal</td>\n",
       "      <td>59</td>\n",
       "      <td>22</td>\n",
       "      <td>0</td>\n",
       "      <td>36</td>\n",
       "      <td>1</td>\n",
       "    </tr>\n",
       "    <tr>\n",
       "      <th>0</th>\n",
       "      <td>NaN</td>\n",
       "      <td>Roger Federer</td>\n",
       "      <td>54</td>\n",
       "      <td>20</td>\n",
       "      <td>6</td>\n",
       "      <td>28</td>\n",
       "      <td>0</td>\n",
       "    </tr>\n",
       "    <tr>\n",
       "      <th>0</th>\n",
       "      <td>NaN</td>\n",
       "      <td>Ivan Lendl</td>\n",
       "      <td>31</td>\n",
       "      <td>8</td>\n",
       "      <td>5</td>\n",
       "      <td>18</td>\n",
       "      <td>0</td>\n",
       "    </tr>\n",
       "    <tr>\n",
       "      <th>0</th>\n",
       "      <td>NaN</td>\n",
       "      <td>Pete Sampras</td>\n",
       "      <td>30</td>\n",
       "      <td>14</td>\n",
       "      <td>5</td>\n",
       "      <td>11</td>\n",
       "      <td>0</td>\n",
       "    </tr>\n",
       "  </tbody>\n",
       "</table>\n",
       "</div>"
      ],
      "text/plain": [
       "               Tenista Total Grand Slam Torneo de Maestros* Masters 1000**  \\\n",
       "0  NaN  Novak Djokovic    71         24                   7             40   \n",
       "0  NaN    Rafael Nadal    59         22                   0             36   \n",
       "0  NaN   Roger Federer    54         20                   6             28   \n",
       "0  NaN      Ivan Lendl    31          8                   5             18   \n",
       "0  NaN    Pete Sampras    30         14                   5             11   \n",
       "\n",
       "  JJ.OO.***  \n",
       "0         0  \n",
       "0         1  \n",
       "0         0  \n",
       "0         0  \n",
       "0         0  "
      ]
     },
     "execution_count": 93,
     "metadata": {},
     "output_type": "execute_result"
    }
   ],
   "source": [
    "df_titols.head(5)"
   ]
  },
  {
   "attachments": {},
   "cell_type": "markdown",
   "metadata": {},
   "source": [
    "Eliminem la columna de NaNs."
   ]
  },
  {
   "cell_type": "code",
   "execution_count": 96,
   "metadata": {},
   "outputs": [
    {
     "data": {
      "text/html": [
       "<div>\n",
       "<style scoped>\n",
       "    .dataframe tbody tr th:only-of-type {\n",
       "        vertical-align: middle;\n",
       "    }\n",
       "\n",
       "    .dataframe tbody tr th {\n",
       "        vertical-align: top;\n",
       "    }\n",
       "\n",
       "    .dataframe thead th {\n",
       "        text-align: right;\n",
       "    }\n",
       "</style>\n",
       "<table border=\"1\" class=\"dataframe\">\n",
       "  <thead>\n",
       "    <tr style=\"text-align: right;\">\n",
       "      <th></th>\n",
       "      <th>Tenista</th>\n",
       "      <th>Total</th>\n",
       "      <th>Grand Slam</th>\n",
       "      <th>Torneo de Maestros*</th>\n",
       "      <th>Masters 1000**</th>\n",
       "      <th>JJ.OO.***</th>\n",
       "    </tr>\n",
       "  </thead>\n",
       "  <tbody>\n",
       "    <tr>\n",
       "      <th>0</th>\n",
       "      <td>Novak Djokovic</td>\n",
       "      <td>71</td>\n",
       "      <td>24</td>\n",
       "      <td>7</td>\n",
       "      <td>40</td>\n",
       "      <td>0</td>\n",
       "    </tr>\n",
       "    <tr>\n",
       "      <th>0</th>\n",
       "      <td>Rafael Nadal</td>\n",
       "      <td>59</td>\n",
       "      <td>22</td>\n",
       "      <td>0</td>\n",
       "      <td>36</td>\n",
       "      <td>1</td>\n",
       "    </tr>\n",
       "    <tr>\n",
       "      <th>0</th>\n",
       "      <td>Roger Federer</td>\n",
       "      <td>54</td>\n",
       "      <td>20</td>\n",
       "      <td>6</td>\n",
       "      <td>28</td>\n",
       "      <td>0</td>\n",
       "    </tr>\n",
       "    <tr>\n",
       "      <th>0</th>\n",
       "      <td>Ivan Lendl</td>\n",
       "      <td>31</td>\n",
       "      <td>8</td>\n",
       "      <td>5</td>\n",
       "      <td>18</td>\n",
       "      <td>0</td>\n",
       "    </tr>\n",
       "    <tr>\n",
       "      <th>0</th>\n",
       "      <td>Pete Sampras</td>\n",
       "      <td>30</td>\n",
       "      <td>14</td>\n",
       "      <td>5</td>\n",
       "      <td>11</td>\n",
       "      <td>0</td>\n",
       "    </tr>\n",
       "  </tbody>\n",
       "</table>\n",
       "</div>"
      ],
      "text/plain": [
       "          Tenista Total Grand Slam Torneo de Maestros* Masters 1000**  \\\n",
       "0  Novak Djokovic    71         24                   7             40   \n",
       "0    Rafael Nadal    59         22                   0             36   \n",
       "0   Roger Federer    54         20                   6             28   \n",
       "0      Ivan Lendl    31          8                   5             18   \n",
       "0    Pete Sampras    30         14                   5             11   \n",
       "\n",
       "  JJ.OO.***  \n",
       "0         0  \n",
       "0         1  \n",
       "0         0  \n",
       "0         0  \n",
       "0         0  "
      ]
     },
     "execution_count": 96,
     "metadata": {},
     "output_type": "execute_result"
    }
   ],
   "source": [
    "df_titols = df_titols.dropna(axis=1)\n",
    "df_titols.head(5)"
   ]
  },
  {
   "cell_type": "code",
   "execution_count": 97,
   "metadata": {},
   "outputs": [],
   "source": [
    "df_titols.to_csv('sel_titols.csv')"
   ]
  }
 ],
 "metadata": {
  "kernelspec": {
   "display_name": "base",
   "language": "python",
   "name": "python3"
  },
  "language_info": {
   "codemirror_mode": {
    "name": "ipython",
    "version": 3
   },
   "file_extension": ".py",
   "mimetype": "text/x-python",
   "name": "python",
   "nbconvert_exporter": "python",
   "pygments_lexer": "ipython3",
   "version": "3.10.9"
  },
  "orig_nbformat": 4
 },
 "nbformat": 4,
 "nbformat_minor": 2
}
